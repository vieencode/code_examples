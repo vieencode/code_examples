{
 "cells": [
  {
   "cell_type": "code",
   "execution_count": 1,
   "id": "f43a642c",
   "metadata": {},
   "outputs": [],
   "source": [
    "import pandas as pd \n",
    "import plotly.express as px\n",
    "import seaborn as sns\n",
    "import numpy as np\n",
    "import matplotlib.pylab as plt\n",
    "from sklearn.decomposition import PCA\n",
    "from sklearn.preprocessing import StandardScaler\n",
    "\n",
    "sns.set(font=\"monospace\", font_scale=1.25, style='white')"
   ]
  },
  {
   "cell_type": "code",
   "execution_count": 2,
   "id": "af1c6602",
   "metadata": {},
   "outputs": [
    {
     "data": {
      "text/html": [
       "<div>\n",
       "<style scoped>\n",
       "    .dataframe tbody tr th:only-of-type {\n",
       "        vertical-align: middle;\n",
       "    }\n",
       "\n",
       "    .dataframe tbody tr th {\n",
       "        vertical-align: top;\n",
       "    }\n",
       "\n",
       "    .dataframe thead th {\n",
       "        text-align: right;\n",
       "    }\n",
       "</style>\n",
       "<table border=\"1\" class=\"dataframe\">\n",
       "  <thead>\n",
       "    <tr style=\"text-align: right;\">\n",
       "      <th></th>\n",
       "      <th>sepal_length</th>\n",
       "      <th>sepal_width</th>\n",
       "      <th>petal_length</th>\n",
       "      <th>petal_width</th>\n",
       "      <th>species</th>\n",
       "      <th>species_id</th>\n",
       "    </tr>\n",
       "  </thead>\n",
       "  <tbody>\n",
       "    <tr>\n",
       "      <th>0</th>\n",
       "      <td>5.1</td>\n",
       "      <td>3.5</td>\n",
       "      <td>1.4</td>\n",
       "      <td>0.2</td>\n",
       "      <td>setosa</td>\n",
       "      <td>1</td>\n",
       "    </tr>\n",
       "    <tr>\n",
       "      <th>1</th>\n",
       "      <td>4.9</td>\n",
       "      <td>3.0</td>\n",
       "      <td>1.4</td>\n",
       "      <td>0.2</td>\n",
       "      <td>setosa</td>\n",
       "      <td>1</td>\n",
       "    </tr>\n",
       "    <tr>\n",
       "      <th>2</th>\n",
       "      <td>4.7</td>\n",
       "      <td>3.2</td>\n",
       "      <td>1.3</td>\n",
       "      <td>0.2</td>\n",
       "      <td>setosa</td>\n",
       "      <td>1</td>\n",
       "    </tr>\n",
       "    <tr>\n",
       "      <th>3</th>\n",
       "      <td>4.6</td>\n",
       "      <td>3.1</td>\n",
       "      <td>1.5</td>\n",
       "      <td>0.2</td>\n",
       "      <td>setosa</td>\n",
       "      <td>1</td>\n",
       "    </tr>\n",
       "    <tr>\n",
       "      <th>4</th>\n",
       "      <td>5.0</td>\n",
       "      <td>3.6</td>\n",
       "      <td>1.4</td>\n",
       "      <td>0.2</td>\n",
       "      <td>setosa</td>\n",
       "      <td>1</td>\n",
       "    </tr>\n",
       "    <tr>\n",
       "      <th>...</th>\n",
       "      <td>...</td>\n",
       "      <td>...</td>\n",
       "      <td>...</td>\n",
       "      <td>...</td>\n",
       "      <td>...</td>\n",
       "      <td>...</td>\n",
       "    </tr>\n",
       "    <tr>\n",
       "      <th>145</th>\n",
       "      <td>6.7</td>\n",
       "      <td>3.0</td>\n",
       "      <td>5.2</td>\n",
       "      <td>2.3</td>\n",
       "      <td>virginica</td>\n",
       "      <td>3</td>\n",
       "    </tr>\n",
       "    <tr>\n",
       "      <th>146</th>\n",
       "      <td>6.3</td>\n",
       "      <td>2.5</td>\n",
       "      <td>5.0</td>\n",
       "      <td>1.9</td>\n",
       "      <td>virginica</td>\n",
       "      <td>3</td>\n",
       "    </tr>\n",
       "    <tr>\n",
       "      <th>147</th>\n",
       "      <td>6.5</td>\n",
       "      <td>3.0</td>\n",
       "      <td>5.2</td>\n",
       "      <td>2.0</td>\n",
       "      <td>virginica</td>\n",
       "      <td>3</td>\n",
       "    </tr>\n",
       "    <tr>\n",
       "      <th>148</th>\n",
       "      <td>6.2</td>\n",
       "      <td>3.4</td>\n",
       "      <td>5.4</td>\n",
       "      <td>2.3</td>\n",
       "      <td>virginica</td>\n",
       "      <td>3</td>\n",
       "    </tr>\n",
       "    <tr>\n",
       "      <th>149</th>\n",
       "      <td>5.9</td>\n",
       "      <td>3.0</td>\n",
       "      <td>5.1</td>\n",
       "      <td>1.8</td>\n",
       "      <td>virginica</td>\n",
       "      <td>3</td>\n",
       "    </tr>\n",
       "  </tbody>\n",
       "</table>\n",
       "<p>150 rows × 6 columns</p>\n",
       "</div>"
      ],
      "text/plain": [
       "     sepal_length  sepal_width  petal_length  petal_width    species  \\\n",
       "0             5.1          3.5           1.4          0.2     setosa   \n",
       "1             4.9          3.0           1.4          0.2     setosa   \n",
       "2             4.7          3.2           1.3          0.2     setosa   \n",
       "3             4.6          3.1           1.5          0.2     setosa   \n",
       "4             5.0          3.6           1.4          0.2     setosa   \n",
       "..            ...          ...           ...          ...        ...   \n",
       "145           6.7          3.0           5.2          2.3  virginica   \n",
       "146           6.3          2.5           5.0          1.9  virginica   \n",
       "147           6.5          3.0           5.2          2.0  virginica   \n",
       "148           6.2          3.4           5.4          2.3  virginica   \n",
       "149           5.9          3.0           5.1          1.8  virginica   \n",
       "\n",
       "     species_id  \n",
       "0             1  \n",
       "1             1  \n",
       "2             1  \n",
       "3             1  \n",
       "4             1  \n",
       "..          ...  \n",
       "145           3  \n",
       "146           3  \n",
       "147           3  \n",
       "148           3  \n",
       "149           3  \n",
       "\n",
       "[150 rows x 6 columns]"
      ]
     },
     "execution_count": 2,
     "metadata": {},
     "output_type": "execute_result"
    }
   ],
   "source": [
    "iris_df = px.data.iris()\n",
    "iris_df"
   ]
  },
  {
   "cell_type": "code",
   "execution_count": 3,
   "id": "a46b7ece",
   "metadata": {},
   "outputs": [
    {
     "data": {
      "text/html": [
       "<div>\n",
       "<style scoped>\n",
       "    .dataframe tbody tr th:only-of-type {\n",
       "        vertical-align: middle;\n",
       "    }\n",
       "\n",
       "    .dataframe tbody tr th {\n",
       "        vertical-align: top;\n",
       "    }\n",
       "\n",
       "    .dataframe thead th {\n",
       "        text-align: right;\n",
       "    }\n",
       "</style>\n",
       "<table border=\"1\" class=\"dataframe\">\n",
       "  <thead>\n",
       "    <tr style=\"text-align: right;\">\n",
       "      <th></th>\n",
       "      <th>sepal_length</th>\n",
       "      <th>sepal_width</th>\n",
       "      <th>petal_length</th>\n",
       "      <th>petal_width</th>\n",
       "    </tr>\n",
       "  </thead>\n",
       "  <tbody>\n",
       "    <tr>\n",
       "      <th>0</th>\n",
       "      <td>5.1</td>\n",
       "      <td>3.5</td>\n",
       "      <td>1.4</td>\n",
       "      <td>0.2</td>\n",
       "    </tr>\n",
       "    <tr>\n",
       "      <th>1</th>\n",
       "      <td>4.9</td>\n",
       "      <td>3.0</td>\n",
       "      <td>1.4</td>\n",
       "      <td>0.2</td>\n",
       "    </tr>\n",
       "    <tr>\n",
       "      <th>2</th>\n",
       "      <td>4.7</td>\n",
       "      <td>3.2</td>\n",
       "      <td>1.3</td>\n",
       "      <td>0.2</td>\n",
       "    </tr>\n",
       "    <tr>\n",
       "      <th>3</th>\n",
       "      <td>4.6</td>\n",
       "      <td>3.1</td>\n",
       "      <td>1.5</td>\n",
       "      <td>0.2</td>\n",
       "    </tr>\n",
       "    <tr>\n",
       "      <th>4</th>\n",
       "      <td>5.0</td>\n",
       "      <td>3.6</td>\n",
       "      <td>1.4</td>\n",
       "      <td>0.2</td>\n",
       "    </tr>\n",
       "    <tr>\n",
       "      <th>...</th>\n",
       "      <td>...</td>\n",
       "      <td>...</td>\n",
       "      <td>...</td>\n",
       "      <td>...</td>\n",
       "    </tr>\n",
       "    <tr>\n",
       "      <th>145</th>\n",
       "      <td>6.7</td>\n",
       "      <td>3.0</td>\n",
       "      <td>5.2</td>\n",
       "      <td>2.3</td>\n",
       "    </tr>\n",
       "    <tr>\n",
       "      <th>146</th>\n",
       "      <td>6.3</td>\n",
       "      <td>2.5</td>\n",
       "      <td>5.0</td>\n",
       "      <td>1.9</td>\n",
       "    </tr>\n",
       "    <tr>\n",
       "      <th>147</th>\n",
       "      <td>6.5</td>\n",
       "      <td>3.0</td>\n",
       "      <td>5.2</td>\n",
       "      <td>2.0</td>\n",
       "    </tr>\n",
       "    <tr>\n",
       "      <th>148</th>\n",
       "      <td>6.2</td>\n",
       "      <td>3.4</td>\n",
       "      <td>5.4</td>\n",
       "      <td>2.3</td>\n",
       "    </tr>\n",
       "    <tr>\n",
       "      <th>149</th>\n",
       "      <td>5.9</td>\n",
       "      <td>3.0</td>\n",
       "      <td>5.1</td>\n",
       "      <td>1.8</td>\n",
       "    </tr>\n",
       "  </tbody>\n",
       "</table>\n",
       "<p>150 rows × 4 columns</p>\n",
       "</div>"
      ],
      "text/plain": [
       "     sepal_length  sepal_width  petal_length  petal_width\n",
       "0             5.1          3.5           1.4          0.2\n",
       "1             4.9          3.0           1.4          0.2\n",
       "2             4.7          3.2           1.3          0.2\n",
       "3             4.6          3.1           1.5          0.2\n",
       "4             5.0          3.6           1.4          0.2\n",
       "..            ...          ...           ...          ...\n",
       "145           6.7          3.0           5.2          2.3\n",
       "146           6.3          2.5           5.0          1.9\n",
       "147           6.5          3.0           5.2          2.0\n",
       "148           6.2          3.4           5.4          2.3\n",
       "149           5.9          3.0           5.1          1.8\n",
       "\n",
       "[150 rows x 4 columns]"
      ]
     },
     "execution_count": 3,
     "metadata": {},
     "output_type": "execute_result"
    }
   ],
   "source": [
    "# subset the variable columns\n",
    "X = iris_df.loc[:, [\"sepal_length\", \"sepal_width\", \"petal_length\", \"petal_width\"]]\n",
    "X"
   ]
  },
  {
   "cell_type": "code",
   "execution_count": 4,
   "id": "4b4a7d1a",
   "metadata": {},
   "outputs": [
    {
     "data": {
      "text/plain": [
       "0         setosa\n",
       "1         setosa\n",
       "2         setosa\n",
       "3         setosa\n",
       "4         setosa\n",
       "         ...    \n",
       "145    virginica\n",
       "146    virginica\n",
       "147    virginica\n",
       "148    virginica\n",
       "149    virginica\n",
       "Name: species, Length: 150, dtype: object"
      ]
     },
     "execution_count": 4,
     "metadata": {},
     "output_type": "execute_result"
    }
   ],
   "source": [
    "# subset the sample column\n",
    "y = iris_df.loc[:, \"species\"]\n",
    "y"
   ]
  },
  {
   "cell_type": "code",
   "execution_count": 5,
   "id": "d0db9d67",
   "metadata": {},
   "outputs": [],
   "source": [
    "# scale variable columns\n",
    "X = StandardScaler().fit_transform(X)"
   ]
  },
  {
   "cell_type": "code",
   "execution_count": 6,
   "id": "4d61f406",
   "metadata": {},
   "outputs": [],
   "source": [
    "# assess principal components\n",
    "pca = PCA(n_components=4)\n",
    "principal_components = pca.fit_transform(X)"
   ]
  },
  {
   "cell_type": "code",
   "execution_count": 7,
   "id": "90c643b6",
   "metadata": {},
   "outputs": [
    {
     "data": {
      "image/png": "[encoded data removed]",
      "text/plain": [
       "<Figure size 640x480 with 1 Axes>"
      ]
     },
     "metadata": {},
     "output_type": "display_data"
    }
   ],
   "source": [
    "# create barplot to visualize variance captured in each principal component\n",
    "sns.barplot(x=['PC1','PC2','PC3','PC4'],\n",
    "           y=(pca.explained_variance_ratio_)*100,\n",
    "           edgecolor = 'black',\n",
    "           palette = 'YlGnBu').set(title='Principal Components', ylabel='Percent (%)')\n",
    "plt.show()"
   ]
  },
  {
   "cell_type": "code",
   "execution_count": 8,
   "id": "8567ca0c",
   "metadata": {},
   "outputs": [
    {
     "data": {
      "text/html": [
       "<div>\n",
       "<style scoped>\n",
       "    .dataframe tbody tr th:only-of-type {\n",
       "        vertical-align: middle;\n",
       "    }\n",
       "\n",
       "    .dataframe tbody tr th {\n",
       "        vertical-align: top;\n",
       "    }\n",
       "\n",
       "    .dataframe thead th {\n",
       "        text-align: right;\n",
       "    }\n",
       "</style>\n",
       "<table border=\"1\" class=\"dataframe\">\n",
       "  <thead>\n",
       "    <tr style=\"text-align: right;\">\n",
       "      <th></th>\n",
       "      <th>PC1</th>\n",
       "      <th>PC2</th>\n",
       "      <th>PC3</th>\n",
       "      <th>PC4</th>\n",
       "      <th>species</th>\n",
       "    </tr>\n",
       "  </thead>\n",
       "  <tbody>\n",
       "    <tr>\n",
       "      <th>0</th>\n",
       "      <td>-2.264542</td>\n",
       "      <td>0.505704</td>\n",
       "      <td>-0.121943</td>\n",
       "      <td>-0.023073</td>\n",
       "      <td>setosa</td>\n",
       "    </tr>\n",
       "    <tr>\n",
       "      <th>1</th>\n",
       "      <td>-2.086426</td>\n",
       "      <td>-0.655405</td>\n",
       "      <td>-0.227251</td>\n",
       "      <td>-0.103208</td>\n",
       "      <td>setosa</td>\n",
       "    </tr>\n",
       "    <tr>\n",
       "      <th>2</th>\n",
       "      <td>-2.367950</td>\n",
       "      <td>-0.318477</td>\n",
       "      <td>0.051480</td>\n",
       "      <td>-0.027825</td>\n",
       "      <td>setosa</td>\n",
       "    </tr>\n",
       "    <tr>\n",
       "      <th>3</th>\n",
       "      <td>-2.304197</td>\n",
       "      <td>-0.575368</td>\n",
       "      <td>0.098860</td>\n",
       "      <td>0.066311</td>\n",
       "      <td>setosa</td>\n",
       "    </tr>\n",
       "    <tr>\n",
       "      <th>4</th>\n",
       "      <td>-2.388777</td>\n",
       "      <td>0.674767</td>\n",
       "      <td>0.021428</td>\n",
       "      <td>0.037397</td>\n",
       "      <td>setosa</td>\n",
       "    </tr>\n",
       "    <tr>\n",
       "      <th>...</th>\n",
       "      <td>...</td>\n",
       "      <td>...</td>\n",
       "      <td>...</td>\n",
       "      <td>...</td>\n",
       "      <td>...</td>\n",
       "    </tr>\n",
       "    <tr>\n",
       "      <th>145</th>\n",
       "      <td>1.870522</td>\n",
       "      <td>0.382822</td>\n",
       "      <td>0.254532</td>\n",
       "      <td>-0.388890</td>\n",
       "      <td>virginica</td>\n",
       "    </tr>\n",
       "    <tr>\n",
       "      <th>146</th>\n",
       "      <td>1.558492</td>\n",
       "      <td>-0.905314</td>\n",
       "      <td>-0.025382</td>\n",
       "      <td>-0.221322</td>\n",
       "      <td>virginica</td>\n",
       "    </tr>\n",
       "    <tr>\n",
       "      <th>147</th>\n",
       "      <td>1.520845</td>\n",
       "      <td>0.266795</td>\n",
       "      <td>0.179277</td>\n",
       "      <td>-0.118903</td>\n",
       "      <td>virginica</td>\n",
       "    </tr>\n",
       "    <tr>\n",
       "      <th>148</th>\n",
       "      <td>1.376391</td>\n",
       "      <td>1.016362</td>\n",
       "      <td>0.931405</td>\n",
       "      <td>-0.024146</td>\n",
       "      <td>virginica</td>\n",
       "    </tr>\n",
       "    <tr>\n",
       "      <th>149</th>\n",
       "      <td>0.959299</td>\n",
       "      <td>-0.022284</td>\n",
       "      <td>0.528794</td>\n",
       "      <td>0.163676</td>\n",
       "      <td>virginica</td>\n",
       "    </tr>\n",
       "  </tbody>\n",
       "</table>\n",
       "<p>150 rows × 5 columns</p>\n",
       "</div>"
      ],
      "text/plain": [
       "          PC1       PC2       PC3       PC4    species\n",
       "0   -2.264542  0.505704 -0.121943 -0.023073     setosa\n",
       "1   -2.086426 -0.655405 -0.227251 -0.103208     setosa\n",
       "2   -2.367950 -0.318477  0.051480 -0.027825     setosa\n",
       "3   -2.304197 -0.575368  0.098860  0.066311     setosa\n",
       "4   -2.388777  0.674767  0.021428  0.037397     setosa\n",
       "..        ...       ...       ...       ...        ...\n",
       "145  1.870522  0.382822  0.254532 -0.388890  virginica\n",
       "146  1.558492 -0.905314 -0.025382 -0.221322  virginica\n",
       "147  1.520845  0.266795  0.179277 -0.118903  virginica\n",
       "148  1.376391  1.016362  0.931405 -0.024146  virginica\n",
       "149  0.959299 -0.022284  0.528794  0.163676  virginica\n",
       "\n",
       "[150 rows x 5 columns]"
      ]
     },
     "execution_count": 8,
     "metadata": {},
     "output_type": "execute_result"
    }
   ],
   "source": [
    "# create dataframe for PCA plot\n",
    "principal_components_df = pd.DataFrame(data = principal_components, \n",
    "                                       columns = ['PC1', 'PC2', 'PC3', 'PC4'])\n",
    "principal_components_df = pd.concat([principal_components_df, y], axis = 1)\n",
    "principal_components_df"
   ]
  },
  {
   "cell_type": "code",
   "execution_count": 9,
   "id": "6e27d01c",
   "metadata": {},
   "outputs": [
    {
     "data": {
      "text/html": [
       "<div>\n",
       "<style scoped>\n",
       "    .dataframe tbody tr th:only-of-type {\n",
       "        vertical-align: middle;\n",
       "    }\n",
       "\n",
       "    .dataframe tbody tr th {\n",
       "        vertical-align: top;\n",
       "    }\n",
       "\n",
       "    .dataframe thead th {\n",
       "        text-align: right;\n",
       "    }\n",
       "</style>\n",
       "<table border=\"1\" class=\"dataframe\">\n",
       "  <thead>\n",
       "    <tr style=\"text-align: right;\">\n",
       "      <th></th>\n",
       "      <th>PC1</th>\n",
       "      <th>PC2</th>\n",
       "      <th>PC3</th>\n",
       "      <th>PC4</th>\n",
       "      <th>variable</th>\n",
       "    </tr>\n",
       "  </thead>\n",
       "  <tbody>\n",
       "    <tr>\n",
       "      <th>0</th>\n",
       "      <td>0.522372</td>\n",
       "      <td>0.372318</td>\n",
       "      <td>-0.721017</td>\n",
       "      <td>-0.261996</td>\n",
       "      <td>sepal_length</td>\n",
       "    </tr>\n",
       "    <tr>\n",
       "      <th>1</th>\n",
       "      <td>-0.263355</td>\n",
       "      <td>0.925556</td>\n",
       "      <td>0.242033</td>\n",
       "      <td>0.124135</td>\n",
       "      <td>sepal_width</td>\n",
       "    </tr>\n",
       "    <tr>\n",
       "      <th>2</th>\n",
       "      <td>0.581254</td>\n",
       "      <td>0.021095</td>\n",
       "      <td>0.140892</td>\n",
       "      <td>0.801154</td>\n",
       "      <td>petal_length</td>\n",
       "    </tr>\n",
       "    <tr>\n",
       "      <th>3</th>\n",
       "      <td>0.565611</td>\n",
       "      <td>0.065416</td>\n",
       "      <td>0.633801</td>\n",
       "      <td>-0.523546</td>\n",
       "      <td>petal_width</td>\n",
       "    </tr>\n",
       "  </tbody>\n",
       "</table>\n",
       "</div>"
      ],
      "text/plain": [
       "        PC1       PC2       PC3       PC4      variable\n",
       "0  0.522372  0.372318 -0.721017 -0.261996  sepal_length\n",
       "1 -0.263355  0.925556  0.242033  0.124135   sepal_width\n",
       "2  0.581254  0.021095  0.140892  0.801154  petal_length\n",
       "3  0.565611  0.065416  0.633801 -0.523546   petal_width"
      ]
     },
     "execution_count": 9,
     "metadata": {},
     "output_type": "execute_result"
    }
   ],
   "source": [
    "# get PCA loadings dataframe\n",
    "loadings_df = pd.DataFrame(data = np.transpose(pca.components_), columns = ['PC1', 'PC2', 'PC3', 'PC4'])    \n",
    "X = px.data.iris().loc[:, [\"sepal_length\", \"sepal_width\", \"petal_length\", \"petal_width\"]]\n",
    "loadings_df[\"variable\"] = list(X.columns)\n",
    "loadings_df"
   ]
  },
  {
   "cell_type": "code",
   "execution_count": 10,
   "id": "aff54505",
   "metadata": {},
   "outputs": [
    {
     "data": {
      "application/vnd.plotly.v1+json": {
       "config": {
        "plotlyServerURL": "https://plot.ly"
       },
       "data": [
        {
         "hovertemplate": "Species=setosa<br>PC1 (72.77%)=%{x}<br>PC2 (23.03%)=%{y}<extra></extra>",
         "legendgroup": "setosa",
         "marker": {
          "color": "#512C96",
          "size": 10,
          "symbol": "circle"
         },
         "mode": "markers",
         "name": "setosa",
         "orientation": "v",
         "showlegend": true,
         "type": "scatter",
         "x": [
          -2.264541728394905,
          -2.08642550061616,
          -2.367950449062527,
          -2.3041971611520107,
          -2.388777493505643,
          -2.0705368071805546,
          -2.4457113396302854,
          -2.233841858709267,
          -2.3419576764553915,
          -2.188675755280871,
          -2.1634865562665238,
          -2.327377754134375,
          -2.2240827220450035,
          -2.639716260844631,
          -2.19229150849843,
          -2.2514652145840657,
          -2.202750480080087,
          -2.190179163791053,
          -1.894074293023669,
          -2.339949070423409,
          -1.914556394959518,
          -2.204645397533815,
          -2.7741697937051586,
          -1.8204115633372144,
          -2.2282174994597264,
          -1.957024007341398,
          -2.052063311276688,
          -2.1681936533450226,
          -2.140305963284159,
          -2.2687901943878783,
          -2.1445544292771364,
          -1.8319381022015875,
          -2.608202867663348,
          -2.4379508590951433,
          -2.188675755280871,
          -2.2111198968124235,
          -2.044416519319801,
          -2.188675755280871,
          -2.435952202966021,
          -2.1705472018842715,
          -2.2865272388409315,
          -1.871707223536952,
          -2.5578344195375147,
          -1.9642792903547381,
          -2.133372832920029,
          -2.0753575928373076,
          -2.381258216802374,
          -2.3981916876626403,
          -2.2267812130915194,
          -2.2059541686484034
         ],
         "xaxis": "x",
         "y": [
          0.505703902773784,
          -0.655404729369135,
          -0.31847731084724923,
          -0.5753677125331953,
          0.6747673967025152,
          1.5185485598885131,
          0.07456267500687404,
          0.24761393175226495,
          -1.0951463625829554,
          -0.4486290483375591,
          1.070595576037726,
          0.15858745465947607,
          -0.7091181580302263,
          -0.9382819821078541,
          1.8899785123164656,
          2.722371076574469,
          1.5137502825462186,
          0.5143043082206927,
          1.4311107069412368,
          1.1580334289850007,
          0.4304651632801379,
          0.952457317288998,
          0.4895170265034949,
          0.10675079283540621,
          0.16218616266619706,
          -0.607892567483808,
          0.26601431198165504,
          0.5520164953235397,
          0.336640408845054,
          -0.31487860284052827,
          -0.4839420967692589,
          0.445266835502807,
          1.8284751927341005,
          2.1853916156308917,
          -0.4486290483375591,
          -0.18433781054027887,
          0.6849564262949365,
          -0.4486290483375591,
          -0.882169414775617,
          0.29272695496644635,
          0.4679917156709377,
          -2.32769160611491,
          -0.45381638048979306,
          0.4973916400183832,
          1.1714321117742035,
          -0.6919173471364098,
          1.1506325928736663,
          -0.362390764725857,
          1.0254825528235445,
          0.03223784527377944
         ],
         "yaxis": "y"
        },
        {
         "hovertemplate": "Species=versicolor<br>PC1 (72.77%)=%{x}<br>PC2 (23.03%)=%{y}<extra></extra>",
         "legendgroup": "versicolor",
         "marker": {
          "color": "#3C6F9C",
          "size": 10,
          "symbol": "circle"
         },
         "mode": "markers",
         "name": "versicolor",
         "orientation": "v",
         "showlegend": true,
         "type": "scatter",
         "x": [
          1.1039936528045733,
          0.7324814400086812,
          1.2421095053189384,
          0.3973072828233272,
          1.0725939482015456,
          0.3844581461690015,
          0.7487150759515534,
          -0.49786338779811895,
          0.9262223675330993,
          0.004968025584318755,
          -0.12469746138037124,
          0.4387301177805468,
          0.5516339814225079,
          0.7171650662368517,
          -0.03725838296568853,
          0.8758905359406841,
          0.3480064019802086,
          0.1533925445686671,
          1.2153032092161546,
          0.15694117564425064,
          0.7382561043698963,
          0.4723696823445688,
          1.227988214083443,
          0.6293810453149024,
          0.7004727992084586,
          0.8735369874014346,
          1.2542221905224513,
          1.3582398473872725,
          0.6621261375659379,
          -0.047281513319880196,
          0.12153420888011858,
          0.014118226051387557,
          0.236010837326597,
          1.056691428090577,
          0.22141708833021767,
          0.4317831607410537,
          1.0494133552191813,
          1.0358782103228252,
          0.06706759987298014,
          0.27542506625183405,
          0.2723350662617718,
          0.6231705397262218,
          0.3300053638372266,
          -0.373627622687377,
          0.28294434295510273,
          0.0890531103190113,
          0.22435678320860605,
          0.5738834855584672,
          -0.45701287250467515,
          0.25224447326946925
         ],
         "xaxis": "x",
         "y": [
          0.8631124458513242,
          0.5986355733419972,
          0.6148224496122867,
          -1.7581689474435263,
          -0.2117579026798957,
          -0.5910624686227363,
          0.7786986113887822,
          -1.8488687712754421,
          0.030330826783381077,
          -1.0294011124030877,
          -2.6580626779617607,
          -0.05888128502145428,
          -1.7725815648562546,
          -0.18543431450504375,
          -0.4327950987141688,
          0.5099981510591474,
          -0.1906216466572776,
          -0.7907254562344854,
          -1.6333556445154829,
          -1.3031032701729113,
          0.40247038161853615,
          -0.4166082224438794,
          -0.9409147925302723,
          -0.416811642541772,
          -0.06349392765170225,
          0.25070861070205386,
          -0.08262009981311255,
          0.328820266270402,
          -0.224346070943464,
          -1.0572124126050204,
          -1.5635923798655778,
          -1.5733923546480597,
          -0.7759237840118164,
          -0.6369012837689367,
          -0.28084769308563995,
          0.8551369202180028,
          0.5221972645127765,
          -1.3924664843877808,
          -0.2126207348933886,
          -1.3298159131577019,
          -1.1194415241194036,
          0.027542633302294527,
          -0.9889007318191547,
          -2.017932265204172,
          -0.8539507169865499,
          -0.17490854779054157,
          -0.3804846594865454,
          -0.15371997408006502,
          -1.5394645102639806,
          -0.5958607459650308
         ],
         "yaxis": "y"
        },
        {
         "hovertemplate": "Species=virginica<br>PC1 (72.77%)=%{x}<br>PC2 (23.03%)=%{y}<extra></extra>",
         "legendgroup": "virginica",
         "marker": {
          "color": "#DD6892",
          "size": 10,
          "symbol": "circle"
         },
         "mode": "markers",
         "name": "virginica",
         "orientation": "v",
         "showlegend": true,
         "type": "scatter",
         "x": [
          1.8476725943096652,
          1.1531898082521295,
          2.206349497126595,
          1.4386854023261828,
          1.8678907025555853,
          2.754196708825755,
          0.35837447484166723,
          2.3030058981503205,
          2.0017352992189177,
          2.2675545991022696,
          1.365909429202215,
          1.5990645856518702,
          1.8842518537520758,
          1.2530865143775918,
          1.464061522985623,
          1.5918093026385292,
          1.4712801894655445,
          2.43737848219351,
          3.3091411826760813,
          1.2539809866905782,
          2.0404962596630405,
          0.9739151144704737,
          2.898064435843279,
          1.329193691323494,
          1.7042407085196067,
          1.9577276617934367,
          1.171904507987869,
          1.0197810528162634,
          1.7860088612484688,
          1.8647779127074677,
          2.435497391415145,
          2.3160824119611565,
          1.860371425852317,
          1.1112717256759697,
          1.1974691551180385,
          2.8009494037340303,
          1.5801552485205377,
          1.3470444243548025,
          0.9234329777663847,
          1.8535519840664418,
          2.0161572006777604,
          1.9031168585994882,
          1.1531898082521295,
          2.0433084392878107,
          2.0016909669349987,
          1.8705220714601265,
          1.5584918907237182,
          1.520845063998591,
          1.3763911906419282,
          0.9592985756160383
         ],
         "xaxis": "x",
         "y": [
          0.8716966617734134,
          -0.7013261138565751,
          0.5544701049349228,
          -0.050010522268885305,
          0.2911928017611694,
          0.7884322063548451,
          -1.5600945839772886,
          0.40951669522194356,
          -0.7238653593126593,
          1.9214429914653555,
          0.6939480398041612,
          -0.42824883590033946,
          0.4143327579500843,
          -1.1673913352452452,
          -0.4441475694791232,
          0.6770353716018519,
          0.2531924719668157,
          2.5567573414948024,
          -0.0023613201020827672,
          -1.717583844265977,
          0.9073987650150533,
          -0.5711743763662658,
          0.39779135917186825,
          -0.48676054190372386,
          1.0141484248357853,
          1.0033345154297773,
          -0.3188966173105676,
          0.06554296309664828,
          -0.19327279985689116,
          0.5553815315789897,
          0.24665446806897423,
          2.626183869022628,
          -0.18467239440998298,
          -0.2959861024303901,
          -0.8171677419136155,
          0.8447481937849747,
          1.0724744961271226,
          0.4222559658955464,
          0.019230370546893426,
          0.672422728971604,
          0.6103970375551132,
          0.6860248318586994,
          -0.7013261138565751,
          0.864684880472019,
          1.048550046623418,
          0.38282183762299843,
          -0.9053136014070658,
          0.26679457485391106,
          1.0163619287948857,
          -0.02228394466056678
         ],
         "yaxis": "y"
        }
       ],
       "layout": {
        "annotations": [
         {
          "arrowcolor": "red",
          "arrowhead": 3,
          "arrowside": "start",
          "arrowsize": 1,
          "arrowwidth": 1,
          "ax": 1.5671148612229802,
          "axref": "x",
          "ay": 1.1169550900499077,
          "ayref": "y",
          "opacity": 0.6,
          "showarrow": true,
          "text": "sepal_length",
          "x": 0,
          "xref": "x",
          "y": 0,
          "yref": "y"
         },
         {
          "arrowcolor": "red",
          "arrowhead": 3,
          "arrowside": "start",
          "arrowsize": 1,
          "arrowwidth": 1,
          "ax": -0.7900647459418199,
          "axref": "x",
          "ay": 2.7766694824418843,
          "ayref": "y",
          "opacity": 0.6,
          "showarrow": true,
          "text": "sepal_width",
          "x": 0,
          "xref": "x",
          "y": 0,
          "yref": "y"
         },
         {
          "arrowcolor": "red",
          "arrowhead": 3,
          "arrowside": "start",
          "arrowsize": 1,
          "arrowwidth": 1,
          "ax": 1.7437620167929437,
          "axref": "x",
          "ay": 0.06328433052373916,
          "ayref": "y",
          "opacity": 0.6,
          "showarrow": true,
          "text": "petal_length",
          "x": 0,
          "xref": "x",
          "y": 0,
          "yref": "y"
         },
         {
          "arrowcolor": "red",
          "arrowhead": 3,
          "arrowside": "start",
          "arrowsize": 1,
          "arrowwidth": 1,
          "ax": 1.6968331496479476,
          "axref": "x",
          "ay": 0.19624730723678396,
          "ayref": "y",
          "opacity": 0.6,
          "showarrow": true,
          "text": "petal_width",
          "x": 0,
          "xref": "x",
          "y": 0,
          "yref": "y"
         }
        ],
        "font": {
         "color": "black",
         "family": "Courier New, monospace",
         "size": 18
        },
        "height": 700,
        "legend": {
         "title": {
          "text": "Species"
         },
         "tracegroupgap": 0
        },
        "showlegend": true,
        "template": {
         "data": {
          "bar": [
           {
            "error_x": {
             "color": "#2a3f5f"
            },
            "error_y": {
             "color": "#2a3f5f"
            },
            "marker": {
             "line": {
              "color": "white",
              "width": 0.5
             },
             "pattern": {
              "fillmode": "overlay",
              "size": 10,
              "solidity": 0.2
             }
            },
            "type": "bar"
           }
          ],
          "barpolar": [
           {
            "marker": {
             "line": {
              "color": "white",
              "width": 0.5
             },
             "pattern": {
              "fillmode": "overlay",
              "size": 10,
              "solidity": 0.2
             }
            },
            "type": "barpolar"
           }
          ],
          "carpet": [
           {
            "aaxis": {
             "endlinecolor": "#2a3f5f",
             "gridcolor": "#C8D4E3",
             "linecolor": "#C8D4E3",
             "minorgridcolor": "#C8D4E3",
             "startlinecolor": "#2a3f5f"
            },
            "baxis": {
             "endlinecolor": "#2a3f5f",
             "gridcolor": "#C8D4E3",
             "linecolor": "#C8D4E3",
             "minorgridcolor": "#C8D4E3",
             "startlinecolor": "#2a3f5f"
            },
            "type": "carpet"
           }
          ],
          "choropleth": [
           {
            "colorbar": {
             "outlinewidth": 0,
             "ticks": ""
            },
            "type": "choropleth"
           }
          ],
          "contour": [
           {
            "colorbar": {
             "outlinewidth": 0,
             "ticks": ""
            },
            "colorscale": [
             [
              0,
              "#0d0887"
             ],
             [
              0.1111111111111111,
              "#46039f"
             ],
             [
              0.2222222222222222,
              "#7201a8"
             ],
             [
              0.3333333333333333,
              "#9c179e"
             ],
             [
              0.4444444444444444,
              "#bd3786"
             ],
             [
              0.5555555555555556,
              "#d8576b"
             ],
             [
              0.6666666666666666,
              "#ed7953"
             ],
             [
              0.7777777777777778,
              "#fb9f3a"
             ],
             [
              0.8888888888888888,
              "#fdca26"
             ],
             [
              1,
              "#f0f921"
             ]
            ],
            "type": "contour"
           }
          ],
          "contourcarpet": [
           {
            "colorbar": {
             "outlinewidth": 0,
             "ticks": ""
            },
            "type": "contourcarpet"
           }
          ],
          "heatmap": [
           {
            "colorbar": {
             "outlinewidth": 0,
             "ticks": ""
            },
            "colorscale": [
             [
              0,
              "#0d0887"
             ],
             [
              0.1111111111111111,
              "#46039f"
             ],
             [
              0.2222222222222222,
              "#7201a8"
             ],
             [
              0.3333333333333333,
              "#9c179e"
             ],
             [
              0.4444444444444444,
              "#bd3786"
             ],
             [
              0.5555555555555556,
              "#d8576b"
             ],
             [
              0.6666666666666666,
              "#ed7953"
             ],
             [
              0.7777777777777778,
              "#fb9f3a"
             ],
             [
              0.8888888888888888,
              "#fdca26"
             ],
             [
              1,
              "#f0f921"
             ]
            ],
            "type": "heatmap"
           }
          ],
          "heatmapgl": [
           {
            "colorbar": {
             "outlinewidth": 0,
             "ticks": ""
            },
            "colorscale": [
             [
              0,
              "#0d0887"
             ],
             [
              0.1111111111111111,
              "#46039f"
             ],
             [
              0.2222222222222222,
              "#7201a8"
             ],
             [
              0.3333333333333333,
              "#9c179e"
             ],
             [
              0.4444444444444444,
              "#bd3786"
             ],
             [
              0.5555555555555556,
              "#d8576b"
             ],
             [
              0.6666666666666666,
              "#ed7953"
             ],
             [
              0.7777777777777778,
              "#fb9f3a"
             ],
             [
              0.8888888888888888,
              "#fdca26"
             ],
             [
              1,
              "#f0f921"
             ]
            ],
            "type": "heatmapgl"
           }
          ],
          "histogram": [
           {
            "marker": {
             "pattern": {
              "fillmode": "overlay",
              "size": 10,
              "solidity": 0.2
             }
            },
            "type": "histogram"
           }
          ],
          "histogram2d": [
           {
            "colorbar": {
             "outlinewidth": 0,
             "ticks": ""
            },
            "colorscale": [
             [
              0,
              "#0d0887"
             ],
             [
              0.1111111111111111,
              "#46039f"
             ],
             [
              0.2222222222222222,
              "#7201a8"
             ],
             [
              0.3333333333333333,
              "#9c179e"
             ],
             [
              0.4444444444444444,
              "#bd3786"
             ],
             [
              0.5555555555555556,
              "#d8576b"
             ],
             [
              0.6666666666666666,
              "#ed7953"
             ],
             [
              0.7777777777777778,
              "#fb9f3a"
             ],
             [
              0.8888888888888888,
              "#fdca26"
             ],
             [
              1,
              "#f0f921"
             ]
            ],
            "type": "histogram2d"
           }
          ],
          "histogram2dcontour": [
           {
            "colorbar": {
             "outlinewidth": 0,
             "ticks": ""
            },
            "colorscale": [
             [
              0,
              "#0d0887"
             ],
             [
              0.1111111111111111,
              "#46039f"
             ],
             [
              0.2222222222222222,
              "#7201a8"
             ],
             [
              0.3333333333333333,
              "#9c179e"
             ],
             [
              0.4444444444444444,
              "#bd3786"
             ],
             [
              0.5555555555555556,
              "#d8576b"
             ],
             [
              0.6666666666666666,
              "#ed7953"
             ],
             [
              0.7777777777777778,
              "#fb9f3a"
             ],
             [
              0.8888888888888888,
              "#fdca26"
             ],
             [
              1,
              "#f0f921"
             ]
            ],
            "type": "histogram2dcontour"
           }
          ],
          "mesh3d": [
           {
            "colorbar": {
             "outlinewidth": 0,
             "ticks": ""
            },
            "type": "mesh3d"
           }
          ],
          "parcoords": [
           {
            "line": {
             "colorbar": {
              "outlinewidth": 0,
              "ticks": ""
             }
            },
            "type": "parcoords"
           }
          ],
          "pie": [
           {
            "automargin": true,
            "type": "pie"
           }
          ],
          "scatter": [
           {
            "fillpattern": {
             "fillmode": "overlay",
             "size": 10,
             "solidity": 0.2
            },
            "type": "scatter"
           }
          ],
          "scatter3d": [
           {
            "line": {
             "colorbar": {
              "outlinewidth": 0,
              "ticks": ""
             }
            },
            "marker": {
             "colorbar": {
              "outlinewidth": 0,
              "ticks": ""
             }
            },
            "type": "scatter3d"
           }
          ],
          "scattercarpet": [
           {
            "marker": {
             "colorbar": {
              "outlinewidth": 0,
              "ticks": ""
             }
            },
            "type": "scattercarpet"
           }
          ],
          "scattergeo": [
           {
            "marker": {
             "colorbar": {
              "outlinewidth": 0,
              "ticks": ""
             }
            },
            "type": "scattergeo"
           }
          ],
          "scattergl": [
           {
            "marker": {
             "colorbar": {
              "outlinewidth": 0,
              "ticks": ""
             }
            },
            "type": "scattergl"
           }
          ],
          "scattermapbox": [
           {
            "marker": {
             "colorbar": {
              "outlinewidth": 0,
              "ticks": ""
             }
            },
            "type": "scattermapbox"
           }
          ],
          "scatterpolar": [
           {
            "marker": {
             "colorbar": {
              "outlinewidth": 0,
              "ticks": ""
             }
            },
            "type": "scatterpolar"
           }
          ],
          "scatterpolargl": [
           {
            "marker": {
             "colorbar": {
              "outlinewidth": 0,
              "ticks": ""
             }
            },
            "type": "scatterpolargl"
           }
          ],
          "scatterternary": [
           {
            "marker": {
             "colorbar": {
              "outlinewidth": 0,
              "ticks": ""
             }
            },
            "type": "scatterternary"
           }
          ],
          "surface": [
           {
            "colorbar": {
             "outlinewidth": 0,
             "ticks": ""
            },
            "colorscale": [
             [
              0,
              "#0d0887"
             ],
             [
              0.1111111111111111,
              "#46039f"
             ],
             [
              0.2222222222222222,
              "#7201a8"
             ],
             [
              0.3333333333333333,
              "#9c179e"
             ],
             [
              0.4444444444444444,
              "#bd3786"
             ],
             [
              0.5555555555555556,
              "#d8576b"
             ],
             [
              0.6666666666666666,
              "#ed7953"
             ],
             [
              0.7777777777777778,
              "#fb9f3a"
             ],
             [
              0.8888888888888888,
              "#fdca26"
             ],
             [
              1,
              "#f0f921"
             ]
            ],
            "type": "surface"
           }
          ],
          "table": [
           {
            "cells": {
             "fill": {
              "color": "#EBF0F8"
             },
             "line": {
              "color": "white"
             }
            },
            "header": {
             "fill": {
              "color": "#C8D4E3"
             },
             "line": {
              "color": "white"
             }
            },
            "type": "table"
           }
          ]
         },
         "layout": {
          "annotationdefaults": {
           "arrowcolor": "#2a3f5f",
           "arrowhead": 0,
           "arrowwidth": 1
          },
          "autotypenumbers": "strict",
          "coloraxis": {
           "colorbar": {
            "outlinewidth": 0,
            "ticks": ""
           }
          },
          "colorscale": {
           "diverging": [
            [
             0,
             "#8e0152"
            ],
            [
             0.1,
             "#c51b7d"
            ],
            [
             0.2,
             "#de77ae"
            ],
            [
             0.3,
             "#f1b6da"
            ],
            [
             0.4,
             "#fde0ef"
            ],
            [
             0.5,
             "#f7f7f7"
            ],
            [
             0.6,
             "#e6f5d0"
            ],
            [
             0.7,
             "#b8e186"
            ],
            [
             0.8,
             "#7fbc41"
            ],
            [
             0.9,
             "#4d9221"
            ],
            [
             1,
             "#276419"
            ]
           ],
           "sequential": [
            [
             0,
             "#0d0887"
            ],
            [
             0.1111111111111111,
             "#46039f"
            ],
            [
             0.2222222222222222,
             "#7201a8"
            ],
            [
             0.3333333333333333,
             "#9c179e"
            ],
            [
             0.4444444444444444,
             "#bd3786"
            ],
            [
             0.5555555555555556,
             "#d8576b"
            ],
            [
             0.6666666666666666,
             "#ed7953"
            ],
            [
             0.7777777777777778,
             "#fb9f3a"
            ],
            [
             0.8888888888888888,
             "#fdca26"
            ],
            [
             1,
             "#f0f921"
            ]
           ],
           "sequentialminus": [
            [
             0,
             "#0d0887"
            ],
            [
             0.1111111111111111,
             "#46039f"
            ],
            [
             0.2222222222222222,
             "#7201a8"
            ],
            [
             0.3333333333333333,
             "#9c179e"
            ],
            [
             0.4444444444444444,
             "#bd3786"
            ],
            [
             0.5555555555555556,
             "#d8576b"
            ],
            [
             0.6666666666666666,
             "#ed7953"
            ],
            [
             0.7777777777777778,
             "#fb9f3a"
            ],
            [
             0.8888888888888888,
             "#fdca26"
            ],
            [
             1,
             "#f0f921"
            ]
           ]
          },
          "colorway": [
           "#636efa",
           "#EF553B",
           "#00cc96",
           "#ab63fa",
           "#FFA15A",
           "#19d3f3",
           "#FF6692",
           "#B6E880",
           "#FF97FF",
           "#FECB52"
          ],
          "font": {
           "color": "#2a3f5f"
          },
          "geo": {
           "bgcolor": "white",
           "lakecolor": "white",
           "landcolor": "white",
           "showlakes": true,
           "showland": true,
           "subunitcolor": "#C8D4E3"
          },
          "hoverlabel": {
           "align": "left"
          },
          "hovermode": "closest",
          "mapbox": {
           "style": "light"
          },
          "paper_bgcolor": "white",
          "plot_bgcolor": "white",
          "polar": {
           "angularaxis": {
            "gridcolor": "#EBF0F8",
            "linecolor": "#EBF0F8",
            "ticks": ""
           },
           "bgcolor": "white",
           "radialaxis": {
            "gridcolor": "#EBF0F8",
            "linecolor": "#EBF0F8",
            "ticks": ""
           }
          },
          "scene": {
           "xaxis": {
            "backgroundcolor": "white",
            "gridcolor": "#DFE8F3",
            "gridwidth": 2,
            "linecolor": "#EBF0F8",
            "showbackground": true,
            "ticks": "",
            "zerolinecolor": "#EBF0F8"
           },
           "yaxis": {
            "backgroundcolor": "white",
            "gridcolor": "#DFE8F3",
            "gridwidth": 2,
            "linecolor": "#EBF0F8",
            "showbackground": true,
            "ticks": "",
            "zerolinecolor": "#EBF0F8"
           },
           "zaxis": {
            "backgroundcolor": "white",
            "gridcolor": "#DFE8F3",
            "gridwidth": 2,
            "linecolor": "#EBF0F8",
            "showbackground": true,
            "ticks": "",
            "zerolinecolor": "#EBF0F8"
           }
          },
          "shapedefaults": {
           "line": {
            "color": "#2a3f5f"
           }
          },
          "ternary": {
           "aaxis": {
            "gridcolor": "#DFE8F3",
            "linecolor": "#A2B1C6",
            "ticks": ""
           },
           "baxis": {
            "gridcolor": "#DFE8F3",
            "linecolor": "#A2B1C6",
            "ticks": ""
           },
           "bgcolor": "white",
           "caxis": {
            "gridcolor": "#DFE8F3",
            "linecolor": "#A2B1C6",
            "ticks": ""
           }
          },
          "title": {
           "x": 0.05
          },
          "xaxis": {
           "automargin": true,
           "gridcolor": "#EBF0F8",
           "linecolor": "#EBF0F8",
           "ticks": "",
           "title": {
            "standoff": 15
           },
           "zerolinecolor": "#EBF0F8",
           "zerolinewidth": 2
          },
          "yaxis": {
           "automargin": true,
           "gridcolor": "#EBF0F8",
           "linecolor": "#EBF0F8",
           "ticks": "",
           "title": {
            "standoff": 15
           },
           "zerolinecolor": "#EBF0F8",
           "zerolinewidth": 2
          }
         }
        },
        "title": {
         "text": "PCA plot (150 features)",
         "x": 0.22
        },
        "width": 800,
        "xaxis": {
         "anchor": "y",
         "domain": [
          0,
          1
         ],
         "dtick": 1,
         "gridcolor": "#E8E8E8",
         "gridwidth": 2,
         "linecolor": "black",
         "linewidth": 2,
         "mirror": true,
         "range": [
          -4,
          4
         ],
         "showgrid": true,
         "showline": true,
         "title": {
          "text": "PC1 (72.77%)"
         },
         "zerolinecolor": "#E8E8E8",
         "zerolinewidth": 2
        },
        "yaxis": {
         "anchor": "x",
         "domain": [
          0,
          1
         ],
         "dtick": 1,
         "gridcolor": "#E8E8E8",
         "gridwidth": 2,
         "linecolor": "black",
         "linewidth": 2,
         "mirror": true,
         "range": [
          -4,
          4
         ],
         "showgrid": true,
         "showline": true,
         "title": {
          "text": "PC2 (23.03%)"
         },
         "zerolinecolor": "#E8E8E8",
         "zerolinewidth": 2
        }
       }
      }
     },
     "metadata": {},
     "output_type": "display_data"
    }
   ],
   "source": [
    "# plot PCA plot with loadings \n",
    "fig = px.scatter(principal_components_df, \n",
    "                 x='PC1', \n",
    "                 y='PC2', \n",
    "                 color=principal_components_df[\"species\"],\n",
    "                 color_discrete_sequence=[\"#512C96\", \n",
    "                                          \"#3C6F9C\", \n",
    "                                          \"#DD6892\"], \n",
    "                 labels={\"PC1\": \"PC1 ({}%)\".format(round((pca.explained_variance_ratio_[0] * 100),2)),\n",
    "                         \"PC2\": \"PC2 ({}%)\".format(round((pca.explained_variance_ratio_[1] * 100),2)),\n",
    "                         \"species\": \"Species\"},\n",
    "                 title=\"PCA plot\"+\" (\"+str(iris_df.shape[0])+\" features)\",\n",
    "                 template=\"plotly_white\")\n",
    "\n",
    "#updates the range of x and y axis    \n",
    "fig.update_xaxes(dtick=1, range=[-4, 4])\n",
    "fig.update_yaxes(dtick=1, range=[-4, 4])\n",
    "\n",
    "#determines if border of plot should be shown\n",
    "fig.update_xaxes(showline=True, linewidth=2, linecolor='black', mirror=True)\n",
    "fig.update_yaxes(showline=True, linewidth=2, linecolor='black', mirror=True)\n",
    "\n",
    "#determines gridlines details\n",
    "fig.update_xaxes(showgrid=True, gridwidth=2, gridcolor='#E8E8E8')\n",
    "fig.update_yaxes(showgrid=True, gridwidth=2, gridcolor='#E8E8E8')\n",
    "\n",
    "#determines how zerolines should be displayed\n",
    "fig.update_xaxes(zerolinewidth=2, zerolinecolor='#E8E8E8')\n",
    "fig.update_yaxes(zerolinewidth=2, zerolinecolor='#E8E8E8')\n",
    "\n",
    "#updates size of feature points in plot\n",
    "fig.update_traces(marker=dict(size=10),\n",
    "                  selector=dict(mode='markers')) \n",
    "\n",
    "#specifies layout details\n",
    "fig.update_layout(height=700, \n",
    "                  width=800, \n",
    "                  showlegend=True, \n",
    "                  legend_title_text='Species',\n",
    "                  font=dict(family=\"Courier New, monospace\",\n",
    "                            size=18,\n",
    "                            color=\"black\"),\n",
    "                  title_x=0.22)\n",
    "\n",
    "#add loadings\n",
    "n = loadings_df.shape[0]\n",
    "for i in range(n):\n",
    "    fig.add_annotation(x= 0, \n",
    "                       y= 0, \n",
    "                       ax=loadings_df.iloc[i,0] * 3,  \n",
    "                       ay=loadings_df.iloc[i,1] * 3, \n",
    "                       xref='x',\n",
    "                       yref='y',\n",
    "                       axref='x',\n",
    "                       ayref='y',\n",
    "                       text=loadings_df.iloc[i,4],  \n",
    "                       showarrow=True,\n",
    "                       arrowhead=3,\n",
    "                       arrowsize=1,\n",
    "                       arrowwidth=1,\n",
    "                       arrowcolor='red',\n",
    "                       opacity=0.6,\n",
    "                       arrowside='start')\n",
    "fig.show()\n",
    "fig.write_html(\"pca_plot_iris_data.html\")"
   ]
  },
  {
   "cell_type": "code",
   "execution_count": 11,
   "id": "f8ecc3e9",
   "metadata": {},
   "outputs": [
    {
     "data": {
      "image/png": "[encoded data removed]",
      "text/plain": [
       "<Figure size 400x200 with 2 Axes>"
      ]
     },
     "metadata": {},
     "output_type": "display_data"
    }
   ],
   "source": [
    "plt.figure(figsize=(4,2))\n",
    "sns.heatmap(loadings_df.set_index(\"variable\"),\n",
    "           cmap='YlGnBu',\n",
    "           linewidths=0.7,\n",
    "           linecolor=\"black\").set(title='Loadings', ylabel=None)\n",
    "plt.savefig(\"loadings_heatmap.png\", bbox_inches='tight')\n",
    "plt.show()"
   ]
  },
  {
   "cell_type": "code",
   "execution_count": null,
   "id": "6b218874",
   "metadata": {},
   "outputs": [],
   "source": []
  }
 ],
 "metadata": {
  "kernelspec": {
   "display_name": "Python 3.10.8 ('create_pca_plot')",
   "language": "python",
   "name": "python3"
  },
  "language_info": {
   "codemirror_mode": {
    "name": "ipython",
    "version": 3
   },
   "file_extension": ".py",
   "mimetype": "text/x-python",
   "name": "python",
   "nbconvert_exporter": "python",
   "pygments_lexer": "ipython3",
   "version": "3.10.8"
  },
  "vscode": {
   "interpreter": {
    "hash": "cc4d42cbfbda2a58051ff63c4e8fc936be0397135f3276250f64c145b03dd0b4"
   }
  }
 },
 "nbformat": 4,
 "nbformat_minor": 5
}
